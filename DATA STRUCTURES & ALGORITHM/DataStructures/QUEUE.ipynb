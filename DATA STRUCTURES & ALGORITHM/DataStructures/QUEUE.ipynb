{
 "cells": [
  {
   "cell_type": "code",
   "execution_count": 1,
   "id": "415e562c",
   "metadata": {},
   "outputs": [],
   "source": [
    "# Queue is FIFO\n",
    "wmt_stock_price_queue = []"
   ]
  },
  {
   "cell_type": "code",
   "execution_count": 2,
   "id": "ebbd2436",
   "metadata": {},
   "outputs": [],
   "source": [
    "wmt_stock_price_queue.insert(0,131.10)\n",
    "wmt_stock_price_queue.insert(0,132.12)\n",
    "wmt_stock_price_queue.insert(0,135)"
   ]
  },
  {
   "cell_type": "code",
   "execution_count": 3,
   "id": "a907078d",
   "metadata": {},
   "outputs": [
    {
     "data": {
      "text/plain": [
       "[135, 132.12, 131.1]"
      ]
     },
     "execution_count": 3,
     "metadata": {},
     "output_type": "execute_result"
    }
   ],
   "source": [
    "wmt_stock_price_queue"
   ]
  },
  {
   "cell_type": "code",
   "execution_count": 4,
   "id": "78d84e75",
   "metadata": {},
   "outputs": [
    {
     "data": {
      "text/plain": [
       "131.1"
      ]
     },
     "execution_count": 4,
     "metadata": {},
     "output_type": "execute_result"
    }
   ],
   "source": [
    "wmt_stock_price_queue.pop()"
   ]
  },
  {
   "cell_type": "code",
   "execution_count": 5,
   "id": "c11798e8",
   "metadata": {},
   "outputs": [
    {
     "data": {
      "text/plain": [
       "132.12"
      ]
     },
     "execution_count": 5,
     "metadata": {},
     "output_type": "execute_result"
    }
   ],
   "source": [
    "wmt_stock_price_queue.pop()"
   ]
  },
  {
   "cell_type": "code",
   "execution_count": 6,
   "id": "8b97e96c",
   "metadata": {},
   "outputs": [
    {
     "data": {
      "text/plain": [
       "135"
      ]
     },
     "execution_count": 6,
     "metadata": {},
     "output_type": "execute_result"
    }
   ],
   "source": [
    "wmt_stock_price_queue.pop()"
   ]
  },
  {
   "cell_type": "code",
   "execution_count": 7,
   "id": "2359aebf",
   "metadata": {},
   "outputs": [
    {
     "ename": "IndexError",
     "evalue": "pop from empty list",
     "output_type": "error",
     "traceback": [
      "\u001b[1;31m---------------------------------------------------------------------------\u001b[0m",
      "\u001b[1;31mIndexError\u001b[0m                                Traceback (most recent call last)",
      "Cell \u001b[1;32mIn[7], line 1\u001b[0m\n\u001b[1;32m----> 1\u001b[0m wmt_stock_price_queue\u001b[38;5;241m.\u001b[39mpop()\n",
      "\u001b[1;31mIndexError\u001b[0m: pop from empty list"
     ]
    }
   ],
   "source": [
    "wmt_stock_price_queue.pop()"
   ]
  },
  {
   "cell_type": "code",
   "execution_count": null,
   "id": "8ce96e6a",
   "metadata": {},
   "outputs": [],
   "source": [
    "# deque is a double-ended queue. \n",
    "# It can be used as a stack or  queue\n",
    "from collections import deque\n",
    "q = deque()"
   ]
  },
  {
   "cell_type": "code",
   "execution_count": null,
   "id": "330feec4",
   "metadata": {},
   "outputs": [],
   "source": [
    "# always use appendleft in queue unlike stack\n",
    "q.appendleft(5)\n",
    "q.appendleft(8)\n",
    "q.appendleft(27)"
   ]
  },
  {
   "cell_type": "code",
   "execution_count": null,
   "id": "0673547f",
   "metadata": {},
   "outputs": [],
   "source": [
    "q.pop()"
   ]
  },
  {
   "cell_type": "code",
   "execution_count": null,
   "id": "2968adb8",
   "metadata": {},
   "outputs": [],
   "source": [
    "q.pop()"
   ]
  },
  {
   "cell_type": "code",
   "execution_count": null,
   "id": "8ed91ce4",
   "metadata": {},
   "outputs": [],
   "source": [
    "q.pop()"
   ]
  },
  {
   "cell_type": "code",
   "execution_count": null,
   "id": "e4347035",
   "metadata": {},
   "outputs": [],
   "source": [
    "q.pop()"
   ]
  },
  {
   "cell_type": "code",
   "execution_count": null,
   "id": "a5a5dc4e",
   "metadata": {},
   "outputs": [],
   "source": [
    "from collections import deque\n",
    "\n",
    "class Queue:\n",
    "    def __init__(self):\n",
    "        self.buffer = deque()\n",
    "        \n",
    "    def enqueue(self,val):\n",
    "        self.buffer.appendleft(val)\n",
    "        \n",
    "    def dequeue(self):\n",
    "        return self.buffer.pop()\n",
    "    \n",
    "    def is_empty(self):\n",
    "        return len(self.buffer)==0\n",
    "    \n",
    "    def size(self):\n",
    "        return len(self.buffer)"
   ]
  },
  {
   "cell_type": "code",
   "execution_count": null,
   "id": "c92d1903",
   "metadata": {},
   "outputs": [],
   "source": [
    "pq = Queue()\n",
    "\n",
    "pq.enqueue({\n",
    "    'çompany': 'Wall Mart',\n",
    "    'timestamp': '15 apr, 11.01 AM',\n",
    "    'price' : 131.10\n",
    "})\n",
    "pq.enqueue({\n",
    "    'çompany': 'Wall Mart',\n",
    "    'timestamp': '15 apr, 11.02 AM',\n",
    "    'price' : 132\n",
    "})\n",
    "pq.enqueue({\n",
    "    'çompany': 'Wall Mart',\n",
    "    'timestamp': '15 apr, 11.03 AM',\n",
    "    'price' : 135\n",
    "})"
   ]
  },
  {
   "cell_type": "code",
   "execution_count": null,
   "id": "f27b51dc",
   "metadata": {},
   "outputs": [],
   "source": [
    "pq.size()"
   ]
  },
  {
   "cell_type": "code",
   "execution_count": null,
   "id": "1d3ed5d7",
   "metadata": {},
   "outputs": [],
   "source": [
    "pq.is_empty()"
   ]
  },
  {
   "cell_type": "code",
   "execution_count": null,
   "id": "55b0eba0",
   "metadata": {},
   "outputs": [],
   "source": [
    "pq.buffer"
   ]
  },
  {
   "cell_type": "code",
   "execution_count": null,
   "id": "7a9cad33",
   "metadata": {},
   "outputs": [],
   "source": [
    "pq.dequeue()"
   ]
  },
  {
   "cell_type": "code",
   "execution_count": null,
   "id": "f919cc37",
   "metadata": {},
   "outputs": [],
   "source": [
    "pq.dequeue()"
   ]
  },
  {
   "cell_type": "code",
   "execution_count": null,
   "id": "a585fafa",
   "metadata": {},
   "outputs": [],
   "source": [
    "pq.dequeue()"
   ]
  },
  {
   "cell_type": "code",
   "execution_count": null,
   "id": "fad01d94",
   "metadata": {},
   "outputs": [],
   "source": [
    "pq.is_empty()"
   ]
  },
  {
   "cell_type": "code",
   "execution_count": null,
   "id": "21360da7",
   "metadata": {},
   "outputs": [],
   "source": [
    "# Big O complexities for data structure\n",
    "# www.bigocheatsheet.com"
   ]
  },
  {
   "cell_type": "markdown",
   "id": "85ce2de0",
   "metadata": {},
   "source": [
    "## Data structure tutorial exercise: Queue"
   ]
  },
  {
   "cell_type": "markdown",
   "id": "505c6308",
   "metadata": {},
   "source": [
    "1. Design a food ordering system where your python program will run two threads,\n",
    "    1. Place Order: This thread will be placing an order and inserting that into a queue. This thread places new order every 0.5 second. (hint: use time.sleep(0.5) function)\n",
    "    1. Serve Order: This thread will server the order. All you need to do is pop the order out of the queue and print it. \n",
    "        This thread serves an order every 2 seconds. Also start this thread 1 second after place order thread is started.\n",
    "\n",
    "    Use this video to get yourself familiar with [multithreading in python](https://www.youtube.com/watch?v=PJ4t2U15ACo&list=PLeo1K3hjS3uub3PRhdoCTY8BxMKSW7RjN&index=2&t=0s)\n",
    "\n",
    "    Pass following list as an argument to place order thread,\n",
    "    ```\n",
    "    orders = ['pizza','samosa','pasta','biryani','burger']\n",
    "    ```\n",
    "    This problem is a producer,consumer problem where place_order thread is producing orders whereas server_order thread is consuming the food orders.\n",
    "    Use Queue class implemented in a video tutorial."
   ]
  },
  {
   "cell_type": "markdown",
   "id": "6f376ebd",
   "metadata": {},
   "source": [
    "#### Here's a Python program that implements the described food ordering system using multithreading:"
   ]
  },
  {
   "cell_type": "code",
   "execution_count": null,
   "id": "964887c6",
   "metadata": {},
   "outputs": [],
   "source": [
    "import threading  # Import the threading module for multithreading\n",
    "import time  # Import the time module for sleep functionality\n",
    "from collections import deque  # Import the deque class for implementing the queue\n",
    "\n",
    "class Queue:\n",
    "    def __init__(self):\n",
    "        self.buffer = deque()  # Initialize the queue using deque\n",
    "    \n",
    "    def enqueue(self, val):\n",
    "        self.buffer.appendleft(val)  # Add an element to the left end of the queue\n",
    "        \n",
    "    def dequeue(self):\n",
    "        return self.buffer.pop()  # Remove and return an element from the right end of the queue\n",
    "    \n",
    "    def is_empty(self):\n",
    "        return len(self.buffer) == 0  # Check if the queue is empty\n",
    "    \n",
    "    def size(self):\n",
    "        return len(self.buffer)  # Return the size of the queue\n",
    "\n",
    "food_order_queue = Queue()\n",
    "\n",
    "def place_orders(orders):\n",
    "    print(\"Placing order for:\",orders)\n",
    "    food_order_queue.enqueue(orders)\n",
    "    time.sleep(0.5)\n",
    "    \n",
    "def serve_orders():\n",
    "    time.sleep(1)\n",
    "    while True:\n",
    "        order = food_order_queue.dequeue()\n",
    "        print(\"Now serving \",orders)\n",
    "        time.sleep(2)\n",
    "        \n",
    "if __name__ == '__main__':\n",
    "    orders = ['pizza', 'samosa', 'pasta', 'biryani', 'burger']\n",
    "    t1 = threading.Thread(target=place_orders, args=(orders,))\n",
    "    t2 = threading.Thread(target=serve_orders)\n",
    "    \n",
    "    t1.start()\n",
    "    t2.start()"
   ]
  },
  {
   "cell_type": "code",
   "execution_count": null,
   "id": "a9b99576",
   "metadata": {},
   "outputs": [
    {
     "name": "stdout",
     "output_type": "stream",
     "text": [
      "Placing order for pizza\n",
      "Placing order for samosa\n",
      "Placing order for pasta\n",
      "Serving order: pizza\n",
      "Placing order for biryani\n",
      "Placing order for burger\n",
      "Serving order: samosa\n",
      "Serving order: pasta\n",
      "Serving order: biryani\n",
      "Serving order: burger\n"
     ]
    }
   ],
   "source": [
    "import threading\n",
    "import time\n",
    "from collections import deque\n",
    "\n",
    "class Queue:\n",
    "    def __init__(self):\n",
    "        self.buffer = deque()\n",
    "\n",
    "    def enqueue(self, val):\n",
    "        self.buffer.appendleft(val)\n",
    "\n",
    "    def dequeue(self):\n",
    "        return self.buffer.pop()\n",
    "\n",
    "    def is_empty(self):\n",
    "        return len(self.buffer) == 0\n",
    "\n",
    "    def size(self):\n",
    "        return len(self.buffer)\n",
    "\n",
    "def place_order(orders, order_queue):\n",
    "    for order in orders:\n",
    "        print(f\"Placing order for {order}\")\n",
    "        order_queue.enqueue(order)\n",
    "        time.sleep(0.5)  # Wait for 0.5 seconds before placing the next order\n",
    "\n",
    "def serve_order(order_queue):\n",
    "    time.sleep(1)  # Wait for 1 second before starting to serve orders\n",
    "    while True:\n",
    "        if not order_queue.is_empty():\n",
    "            served_order = order_queue.dequeue()\n",
    "            print(f\"Serving order: {served_order}\")\n",
    "        time.sleep(2)  # Wait for 2 seconds before serving the next order\n",
    "\n",
    "if __name__ == \"__main__\":\n",
    "    orders = ['pizza', 'samosa', 'pasta', 'biryani', 'burger']\n",
    "\n",
    "    # Create a queue object\n",
    "    order_queue = Queue()\n",
    "\n",
    "    # Create threads for place_order and serve_order functions\n",
    "    place_order_thread = threading.Thread(target=place_order, args=(orders, order_queue))\n",
    "    serve_order_thread = threading.Thread(target=serve_order, args=(order_queue,))\n",
    "\n",
    "    # Start both threads\n",
    "    place_order_thread.start()\n",
    "    serve_order_thread.start()\n",
    "\n",
    "    # Wait for both threads to finish\n",
    "    place_order_thread.join()\n",
    "    serve_order_thread.join()\n"
   ]
  },
  {
   "cell_type": "markdown",
   "id": "60e95438",
   "metadata": {},
   "source": [
    "2. Write a program to print binary numbers from 1 to 10 using Queue. Use Queue class implemented in main tutorial.\n",
    "Binary sequence should look like,\n",
    "```\n",
    "    1\n",
    "    10\n",
    "    11\n",
    "    100\n",
    "    101\n",
    "    110\n",
    "    111\n",
    "    1000\n",
    "    1001\n",
    "    1010\n",
    "```\n",
    "Hint: Notice a pattern above. After 1 second and third number is 1+0 and 1+1. 4th and 5th number are second number (i.e. 10) + 0 and second number (i.e. 10) + 1.\n",
    "\n",
    "You also need to add front() function in queue class that can return the front element in the queue."
   ]
  },
  {
   "cell_type": "code",
   "execution_count": 6,
   "id": "b6f46122",
   "metadata": {},
   "outputs": [
    {
     "name": "stdout",
     "output_type": "stream",
     "text": [
      "  1\n",
      "  10\n",
      "  11\n",
      "  100\n",
      "  101\n",
      "  110\n",
      "  111\n",
      "  1000\n",
      "  1001\n",
      "  1010\n"
     ]
    }
   ],
   "source": [
    "from collections import deque\n",
    "\n",
    "class Queue:\n",
    "    def __init__(self):\n",
    "        self.buffer = deque()  # Initialize a deque to store elements\n",
    "\n",
    "    def enqueue(self, val):\n",
    "        self.buffer.appendleft(val)  # Add element to the front of the deque\n",
    "\n",
    "    def dequeue(self):\n",
    "        if len(self.buffer) == 0:  # Check if the deque is empty\n",
    "            print(\"Queue is empty\")\n",
    "            return None  # Return None if the deque is empty\n",
    "\n",
    "        return self.buffer.pop()  # Remove and return element from the back of the deque\n",
    "\n",
    "    def is_empty(self):\n",
    "        return len(self.buffer) == 0  # Check if the deque is empty\n",
    "\n",
    "    def size(self):\n",
    "        return len(self.buffer)  # Return the number of elements in the deque\n",
    "\n",
    "    def front(self):\n",
    "        return self.buffer[-1]  # Return the front element of the deque\n",
    "\n",
    "def produce_binary_numbers(n):\n",
    "    numbers_queue = Queue()\n",
    "    numbers_queue.enqueue(\"1\")\n",
    "\n",
    "    for i in range(n):\n",
    "        front = numbers_queue.front()  # Get the front element from the queue\n",
    "        print(\" \", front)  # Print the current binary number\n",
    "        numbers_queue.enqueue(front + \"0\")  # Enqueue the next binary number with '0' appended\n",
    "        numbers_queue.enqueue(front + \"1\")  # Enqueue the next binary number with '1' appended\n",
    "\n",
    "        numbers_queue.dequeue()  # Dequeue the front element to move to the next binary number\n",
    "\n",
    "if __name__ == '__main__':\n",
    "    produce_binary_numbers(10)  # Call the function to produce and print binary numbers\n"
   ]
  },
  {
   "cell_type": "code",
   "execution_count": 14,
   "id": "5ac01311",
   "metadata": {},
   "outputs": [
    {
     "name": "stdout",
     "output_type": "stream",
     "text": [
      "  1\n",
      "  10\n",
      "  11\n",
      "  100\n",
      "  101\n",
      "  110\n",
      "  111\n",
      "  1000\n",
      "  1001\n",
      "  1010\n"
     ]
    }
   ],
   "source": [
    "import time\n",
    "from collections import deque\n",
    "\n",
    "class Queue:\n",
    "    def __init__(self):\n",
    "        self.buffer = deque()  # Initialize a deque to store elements\n",
    "\n",
    "    def enqueue(self, val):\n",
    "        self.buffer.appendleft(val)  # Add element to the front of the deque\n",
    "\n",
    "    def dequeue(self):\n",
    "        return self.buffer.pop()  # Remove and return element from the back of the deque\n",
    "\n",
    "    def is_empty(self):\n",
    "        return len(self.buffer) == 0  # Check if the deque is empty\n",
    "\n",
    "    def size(self):\n",
    "        return len(self.buffer)  # Return the number of elements in the deque\n",
    "\n",
    "    def front(self):\n",
    "        return self.buffer[-1]  # Return the front element of the deque\n",
    "\n",
    "def generate_binary_numbers(n):\n",
    "    binary_queue = Queue() # Create an instance of the Queue class\n",
    "    \n",
    "    binary_queue.enqueue('1') # Enqueue the first binary number '1'\n",
    "    \n",
    "    for i in range(10):\n",
    "        front_element = binary_queue.front() # Get the front element from the queue\n",
    "\n",
    "        print(\" \", front_element) # print the current binary number\n",
    "        \n",
    "        binary_queue.enqueue(front_element + '0') # Enqueue the next binary number with '0' appended\n",
    "        binary_queue.enqueue(front_element + '1')  # Enqueue the next binary number with '1' appended\n",
    "        \n",
    "        binary_queue.dequeue()  # dequeue the front element to move to the next binary number\n",
    "        \n",
    "        time.sleep(1) # Wait for 1 sec before puttting the next binary number\n",
    "        \n",
    "if __name__ == '__main__':\n",
    "    generate_binary_numbers(10) # call the func to generate and print binary numbers\n",
    "    "
   ]
  },
  {
   "cell_type": "code",
   "execution_count": null,
   "id": "1f322359",
   "metadata": {},
   "outputs": [],
   "source": []
  }
 ],
 "metadata": {
  "kernelspec": {
   "display_name": "Python 3 (ipykernel)",
   "language": "python",
   "name": "python3"
  },
  "language_info": {
   "codemirror_mode": {
    "name": "ipython",
    "version": 3
   },
   "file_extension": ".py",
   "mimetype": "text/x-python",
   "name": "python",
   "nbconvert_exporter": "python",
   "pygments_lexer": "ipython3",
   "version": "3.11.4"
  }
 },
 "nbformat": 4,
 "nbformat_minor": 5
}
