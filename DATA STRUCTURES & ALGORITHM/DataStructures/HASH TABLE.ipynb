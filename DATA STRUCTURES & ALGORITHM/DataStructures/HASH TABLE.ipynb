{
 "cells": [
  {
   "cell_type": "code",
   "execution_count": null,
   "id": "55f87d1c",
   "metadata": {},
   "outputs": [],
   "source": [
    "stock_prices = []\n",
    "with open(\"stock_prices.xslx\",\"r\") as f:\n",
    "    for line in f:\n",
    "        tokens = line.split(\",\")\n",
    "        day = tokens[0]\n",
    "        price = float(tokens[1])\n",
    "        stock_prices.append([day,price])"
   ]
  },
  {
   "cell_type": "code",
   "execution_count": 1,
   "id": "960f582d",
   "metadata": {},
   "outputs": [
    {
     "data": {
      "text/plain": [
       "[['march 6', 310.0],\n",
       " ['march 7', 340.0],\n",
       " ['march 8', 380.0],\n",
       " ['march 9', 302.0],\n",
       " ['march 10', 297.0],\n",
       " ['march 11', 323.0]]"
      ]
     },
     "execution_count": 1,
     "metadata": {},
     "output_type": "execute_result"
    }
   ],
   "source": [
    "stock_prices = [\n",
    "    ['march 6', 310.0],\n",
    "    ['march 7', 340.0],\n",
    "    ['march 8', 380.0],\n",
    "    ['march 9', 302.0],\n",
    "    ['march 10', 297.0],\n",
    "    ['march 11', 323.0],\n",
    "]\n",
    "stock_prices"
   ]
  },
  {
   "cell_type": "code",
   "execution_count": null,
   "id": "59fffd11",
   "metadata": {},
   "outputs": [],
   "source": []
  },
  {
   "cell_type": "code",
   "execution_count": 3,
   "id": "cc350ff2",
   "metadata": {},
   "outputs": [
    {
     "name": "stdout",
     "output_type": "stream",
     "text": [
      "302.0\n"
     ]
    }
   ],
   "source": [
    "for element in stock_prices:\n",
    "    if element[0] == 'march 9':\n",
    "        print(element[1])"
   ]
  },
  {
   "cell_type": "code",
   "execution_count": 5,
   "id": "5e83ca52",
   "metadata": {},
   "outputs": [
    {
     "name": "stdout",
     "output_type": "stream",
     "text": [
      "{'march 6': 310.0, 'march 7': 340.0, 'march 8': 380.0, 'march 9': 302.0, 'march 10': 297.0, 'march 11': 323.0}\n"
     ]
    }
   ],
   "source": [
    "stock_prices = [\n",
    "    ['march 6', 310.0],\n",
    "    ['march 7', 340.0],\n",
    "    ['march 8', 380.0],\n",
    "    ['march 9', 302.0],\n",
    "    ['march 10', 297.0],\n",
    "    ['march 11', 323.0],\n",
    "]\n",
    "\n",
    "# Convert the list to a dictionary via list comprehrnsion\n",
    "stock_dict = {day: price for day, price in stock_prices}\n",
    "\n",
    "# Print the resulting dictionary\n",
    "print(stock_dict)\n"
   ]
  },
  {
   "cell_type": "code",
   "execution_count": 6,
   "id": "b05bdec7",
   "metadata": {},
   "outputs": [
    {
     "name": "stdout",
     "output_type": "stream",
     "text": [
      "{'march 6': 310.0, 'march 7': 340.0, 'march 8': 380.0, 'march 9': 302.0, 'march 10': 297.0, 'march 11': 323.0}\n"
     ]
    }
   ],
   "source": [
    "stock_prices = [\n",
    "    ['march 6', 310.0],\n",
    "    ['march 7', 340.0],\n",
    "    ['march 8', 380.0],\n",
    "    ['march 9', 302.0],\n",
    "    ['march 10', 297.0],\n",
    "    ['march 11', 323.0],\n",
    "]\n",
    "\n",
    "# Initialize an empty dictionary\n",
    "stock_dict = {}\n",
    "\n",
    "# Iterate through the list and populate the dictionary\n",
    "for entry in stock_prices:\n",
    "    day, price = entry\n",
    "    stock_dict[day] = price\n",
    "\n",
    "# Print the resulting dictionary\n",
    "print(stock_dict)\n"
   ]
  },
  {
   "cell_type": "code",
   "execution_count": null,
   "id": "1e98f6da",
   "metadata": {},
   "outputs": [],
   "source": []
  },
  {
   "cell_type": "code",
   "execution_count": 12,
   "id": "94571423",
   "metadata": {},
   "outputs": [],
   "source": [
    "def get_hash(key):\n",
    "    h = 0\n",
    "    for char in key:\n",
    "        h += ord(char)\n",
    "    return h % 100"
   ]
  },
  {
   "cell_type": "code",
   "execution_count": 7,
   "id": "1baa0e98",
   "metadata": {},
   "outputs": [
    {
     "data": {
      "text/plain": [
       "97"
      ]
     },
     "execution_count": 7,
     "metadata": {},
     "output_type": "execute_result"
    }
   ],
   "source": [
    "ord('a')"
   ]
  },
  {
   "cell_type": "code",
   "execution_count": 8,
   "id": "b2f7b05f",
   "metadata": {},
   "outputs": [
    {
     "data": {
      "text/plain": [
       "65"
      ]
     },
     "execution_count": 8,
     "metadata": {},
     "output_type": "execute_result"
    }
   ],
   "source": [
    "ord('A')"
   ]
  },
  {
   "cell_type": "code",
   "execution_count": 23,
   "id": "2bd08918",
   "metadata": {},
   "outputs": [
    {
     "data": {
      "text/plain": [
       "9"
      ]
     },
     "execution_count": 23,
     "metadata": {},
     "output_type": "execute_result"
    }
   ],
   "source": [
    "get_hash('march 28')"
   ]
  },
  {
   "cell_type": "code",
   "execution_count": 16,
   "id": "c0af229f",
   "metadata": {},
   "outputs": [
    {
     "data": {
      "text/plain": [
       "67"
      ]
     },
     "execution_count": 16,
     "metadata": {},
     "output_type": "execute_result"
    }
   ],
   "source": [
    "get_hash('april 12')"
   ]
  },
  {
   "cell_type": "code",
   "execution_count": 21,
   "id": "a5ce1705",
   "metadata": {},
   "outputs": [],
   "source": [
    "class HashTable:\n",
    "    def __init__(self):\n",
    "        self.MAX = 100\n",
    "        self.arr = [None for i in range(self.MAX)]\n",
    "        \n",
    "    def get_hash(self, key):\n",
    "        h = 0\n",
    "        for char in key:\n",
    "            h += ord(char)\n",
    "        return h % self.MAX"
   ]
  },
  {
   "cell_type": "code",
   "execution_count": 22,
   "id": "02528995",
   "metadata": {},
   "outputs": [
    {
     "data": {
      "text/plain": [
       "9"
      ]
     },
     "execution_count": 22,
     "metadata": {},
     "output_type": "execute_result"
    }
   ],
   "source": [
    "# create obj of class\n",
    "t = HashTable()\n",
    "t.get_hash('march 6')"
   ]
  },
  {
   "cell_type": "code",
   "execution_count": 36,
   "id": "bae61385",
   "metadata": {},
   "outputs": [],
   "source": [
    "class HashTable:\n",
    "    def __init__(self):\n",
    "        self.MAX = 100\n",
    "        self.arr = [None for i in range(self.MAX)]\n",
    "        \n",
    "    def get_hash(self, key):\n",
    "        h = 0\n",
    "        for char in key:\n",
    "            h += ord(char)\n",
    "        return h % self.MAX\n",
    "    \n",
    "    def add(self, key, val):\n",
    "        h = self.get_hash(key)\n",
    "        self.arr[h] = val\n",
    "        \n",
    "    def get(self, key):\n",
    "        h = self.get_hash(key)\n",
    "        return self.arr[h]"
   ]
  },
  {
   "cell_type": "code",
   "execution_count": 37,
   "id": "3e708609",
   "metadata": {},
   "outputs": [],
   "source": [
    "t = HashTable()\n",
    "t.add('march 6',130)"
   ]
  },
  {
   "cell_type": "code",
   "execution_count": 38,
   "id": "9ceefe72",
   "metadata": {},
   "outputs": [
    {
     "data": {
      "text/plain": [
       "130"
      ]
     },
     "execution_count": 38,
     "metadata": {},
     "output_type": "execute_result"
    }
   ],
   "source": [
    "t.get(\"march 6\")"
   ]
  },
  {
   "cell_type": "code",
   "execution_count": 11,
   "id": "e4e72b88",
   "metadata": {},
   "outputs": [],
   "source": [
    "class HashTable:\n",
    "    def __init__(self):\n",
    "        self.MAX = 100\n",
    "        self.arr = [None for i in range(self.MAX)]\n",
    "        \n",
    "    def get_hash(self, key):\n",
    "        h = 0\n",
    "        for char in key:\n",
    "            h += ord(char)\n",
    "        return h % self.MAX\n",
    "    \n",
    "    def __setitem__(self, key, val):\n",
    "        h = self.get_hash(key)\n",
    "        self.arr[h] = val\n",
    "        \n",
    "    def __getitem__(self, key):\n",
    "        h = self.get_hash(key)\n",
    "        return self.arr[h]"
   ]
  },
  {
   "cell_type": "code",
   "execution_count": 12,
   "id": "b71f54fb",
   "metadata": {},
   "outputs": [],
   "source": [
    "t = HashTable()\n",
    "t['march 6'] = 130"
   ]
  },
  {
   "cell_type": "code",
   "execution_count": 13,
   "id": "7018f8bf",
   "metadata": {},
   "outputs": [
    {
     "data": {
      "text/plain": [
       "130"
      ]
     },
     "execution_count": 13,
     "metadata": {},
     "output_type": "execute_result"
    }
   ],
   "source": [
    "t['march 6']"
   ]
  },
  {
   "cell_type": "code",
   "execution_count": 14,
   "id": "0ad77501",
   "metadata": {},
   "outputs": [],
   "source": [
    "t = HashTable()\n",
    "t['march 6'] = 130\n",
    "t['march 1'] = 20\n",
    "t['dec 17'] = 59"
   ]
  },
  {
   "cell_type": "code",
   "execution_count": 57,
   "id": "eac54bca",
   "metadata": {},
   "outputs": [
    {
     "data": {
      "text/plain": [
       "20"
      ]
     },
     "execution_count": 57,
     "metadata": {},
     "output_type": "execute_result"
    }
   ],
   "source": [
    "t['march 1']"
   ]
  },
  {
   "cell_type": "code",
   "execution_count": null,
   "id": "ba712101",
   "metadata": {},
   "outputs": [],
   "source": [
    "t.arr"
   ]
  },
  {
   "cell_type": "code",
   "execution_count": 61,
   "id": "7b91f206",
   "metadata": {},
   "outputs": [],
   "source": [
    "class HashTable:\n",
    "    def __init__(self):\n",
    "        self.MAX = 100\n",
    "        self.arr = [None for i in range(self.MAX)]\n",
    "        \n",
    "    def get_hash(self, key):\n",
    "        h = 0\n",
    "        for char in key:\n",
    "            h += ord(char)\n",
    "        return h % self.MAX\n",
    "    \n",
    "    def __setitem__(self, key, val):\n",
    "        h = self.get_hash(key)\n",
    "        self.arr[h] = val\n",
    "        \n",
    "    def __getitem__(self, key) :\n",
    "        h = self.get_hash(key)\n",
    "        return self.arr[h]\n",
    "    \n",
    "    def __delitem__(self, key):\n",
    "        h = self.get_hash(key)\n",
    "        self.arr[h] = None"
   ]
  },
  {
   "cell_type": "code",
   "execution_count": 67,
   "id": "7298e4a1",
   "metadata": {},
   "outputs": [],
   "source": [
    "t = HashTable()\n",
    "t['march 6'] = 130\n",
    "t['march 1'] = 20\n",
    "t['dec 17'] = 59"
   ]
  },
  {
   "cell_type": "code",
   "execution_count": 69,
   "id": "a2ce1219",
   "metadata": {},
   "outputs": [],
   "source": [
    "del t['march 6']"
   ]
  },
  {
   "cell_type": "code",
   "execution_count": 70,
   "id": "cf4ee8a2",
   "metadata": {},
   "outputs": [
    {
     "data": {
      "text/plain": [
       "[None,\n",
       " None,\n",
       " None,\n",
       " None,\n",
       " 20,\n",
       " None,\n",
       " None,\n",
       " None,\n",
       " None,\n",
       " None,\n",
       " None,\n",
       " None,\n",
       " None,\n",
       " None,\n",
       " None,\n",
       " None,\n",
       " None,\n",
       " None,\n",
       " None,\n",
       " None,\n",
       " None,\n",
       " None,\n",
       " None,\n",
       " None,\n",
       " None,\n",
       " None,\n",
       " None,\n",
       " None,\n",
       " None,\n",
       " None,\n",
       " None,\n",
       " None,\n",
       " None,\n",
       " None,\n",
       " None,\n",
       " None,\n",
       " 59,\n",
       " None,\n",
       " None,\n",
       " None,\n",
       " None,\n",
       " None,\n",
       " None,\n",
       " None,\n",
       " None,\n",
       " None,\n",
       " None,\n",
       " None,\n",
       " None,\n",
       " None,\n",
       " None,\n",
       " None,\n",
       " None,\n",
       " None,\n",
       " None,\n",
       " None,\n",
       " None,\n",
       " None,\n",
       " None,\n",
       " None,\n",
       " None,\n",
       " None,\n",
       " None,\n",
       " None,\n",
       " None,\n",
       " None,\n",
       " None,\n",
       " None,\n",
       " None,\n",
       " None,\n",
       " None,\n",
       " None,\n",
       " None,\n",
       " None,\n",
       " None,\n",
       " None,\n",
       " None,\n",
       " None,\n",
       " None,\n",
       " None,\n",
       " None,\n",
       " None,\n",
       " None,\n",
       " None,\n",
       " None,\n",
       " None,\n",
       " None,\n",
       " None,\n",
       " None,\n",
       " None,\n",
       " None,\n",
       " None,\n",
       " None,\n",
       " None,\n",
       " None,\n",
       " None,\n",
       " None,\n",
       " None,\n",
       " None,\n",
       " None]"
      ]
     },
     "execution_count": 70,
     "metadata": {},
     "output_type": "execute_result"
    }
   ],
   "source": [
    "t.arr"
   ]
  },
  {
   "cell_type": "code",
   "execution_count": null,
   "id": "387f68d1",
   "metadata": {},
   "outputs": [],
   "source": []
  }
 ],
 "metadata": {
  "kernelspec": {
   "display_name": "Python 3 (ipykernel)",
   "language": "python",
   "name": "python3"
  },
  "language_info": {
   "codemirror_mode": {
    "name": "ipython",
    "version": 3
   },
   "file_extension": ".py",
   "mimetype": "text/x-python",
   "name": "python",
   "nbconvert_exporter": "python",
   "pygments_lexer": "ipython3",
   "version": "3.11.4"
  }
 },
 "nbformat": 4,
 "nbformat_minor": 5
}
