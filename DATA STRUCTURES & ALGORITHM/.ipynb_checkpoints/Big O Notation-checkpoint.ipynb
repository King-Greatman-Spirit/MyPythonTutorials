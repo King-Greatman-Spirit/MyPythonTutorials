{
 "cells": [
  {
   "cell_type": "markdown",
   "id": "3819c5ad",
   "metadata": {},
   "source": [
    "MEASURING TIME COMPLEXITY"
   ]
  },
  {
   "cell_type": "code",
   "execution_count": 6,
   "id": "7297a859",
   "metadata": {},
   "outputs": [
    {
     "name": "stdout",
     "output_type": "stream",
     "text": [
      "Result: True\n",
      "Execution Time: 0.0 milliseconds\n"
     ]
    }
   ],
   "source": [
    "def foo(arr): size(arr) -> 100  # 0.22 milliseconds\n",
    "...           size(arr) -> 1000  # 2.30 milliseconds"
   ]
  },
  {
   "cell_type": "code",
   "execution_count": 7,
   "id": "9891b2e4",
   "metadata": {},
   "outputs": [
    {
     "name": "stdout",
     "output_type": "stream",
     "text": [
      "Result: True\n",
      "Execution Time: 0.0 milliseconds\n"
     ]
    }
   ],
   "source": [
    "import time\n",
    "\n",
    "def foo(arr):\n",
    "    \"\"\"\n",
    "    Check the size of the input array 'arr'.\n",
    "\n",
    "    Parameters:\n",
    "        arr (list): The input list to check the size of.\n",
    "\n",
    "    Returns:\n",
    "        bool: True if the size of 'arr' is 100, otherwise False.\n",
    "    \"\"\"\n",
    "    start_time = time.time()  # Record the start time\n",
    "    result = len(arr) == 100\n",
    "    end_time = time.time()  # Record the end time\n",
    "\n",
    "    # Calculate the elapsed time in milliseconds\n",
    "    elapsed_time_ms = (end_time - start_time) * 1000\n",
    "\n",
    "    return result, elapsed_time_ms  # Return the result and the elapsed time in milliseconds\n",
    "\n",
    "# Example usage:\n",
    "my_list = [1] * 100  # Creating a list with 100 elements\n",
    "\n",
    "result, time_ms = foo(my_list)\n",
    "print(\"Result:\", result)\n",
    "print(\"Execution Time:\", time_ms, \"milliseconds\")\n"
   ]
  },
  {
   "cell_type": "code",
   "execution_count": 9,
   "id": "551b5dc5",
   "metadata": {},
   "outputs": [
    {
     "name": "stdout",
     "output_type": "stream",
     "text": [
      "Array with 100 elements:\n",
      "Result: False\n",
      "Execution Time: 0.0 milliseconds\n",
      "\n",
      "Array with 1000 elements:\n",
      "Result: True\n",
      "Execution Time: 0.0 milliseconds\n"
     ]
    }
   ],
   "source": [
    "import time\n",
    "\n",
    "def foo(arr):\n",
    "    start_time = time.time()\n",
    "    result = len(arr) == 1000  # Check if the length is 1000\n",
    "    end_time = time.time()\n",
    "    elapsed_time_ms = (end_time - start_time) * 1000\n",
    "    return result, elapsed_time_ms\n",
    "\n",
    "\n",
    "# Create arrays with 100 and 1000 elements\n",
    "array_100 = [1] * 100\n",
    "array_1000 = [1] * 1000\n",
    "\n",
    "# Measure and print the execution time for array with 100 elements\n",
    "result_100, time_ms_100 = foo(array_100)\n",
    "print(\"Array with 100 elements:\")\n",
    "print(\"Result:\", result_100)\n",
    "print(\"Execution Time:\", time_ms_100, \"milliseconds\")\n",
    "print()\n",
    "\n",
    "# Measure and print the execution time for array with 1000 elements\n",
    "result_1000, time_ms_1000 = foo(array_1000)\n",
    "print(\"Array with 1000 elements:\")\n",
    "print(\"Result:\", result_1000)\n",
    "print(\"Execution Time:\", time_ms_1000, \"milliseconds\")\n"
   ]
  },
  {
   "cell_type": "code",
   "execution_count": 10,
   "id": "e895f680",
   "metadata": {},
   "outputs": [
    {
     "name": "stdout",
     "output_type": "stream",
     "text": [
      "Array with 100 elements:\n",
      "Result: True\n",
      "Execution Time: 0.0 milliseconds\n",
      "\n",
      "Array with 1000 elements:\n",
      "Result: True\n",
      "Execution Time: 0.0 milliseconds\n"
     ]
    }
   ],
   "source": [
    "import time\n",
    "\n",
    "def foo(arr, expected_length):\n",
    "    start_time = time.time()\n",
    "    result = len(arr) == expected_length\n",
    "    end_time = time.time()\n",
    "    elapsed_time_ms = (end_time - start_time) * 1000\n",
    "    return result, elapsed_time_ms\n",
    "\n",
    "# Create arrays with 100 and 1000 elements\n",
    "array_100 = [1] * 100\n",
    "array_1000 = [1] * 1000\n",
    "\n",
    "# Measure and print the execution time for array with 100 elements\n",
    "result_100, time_ms_100 = foo(array_100, 100)\n",
    "print(\"Array with 100 elements:\")\n",
    "print(\"Result:\", result_100)\n",
    "print(\"Execution Time:\", time_ms_100, \"milliseconds\")\n",
    "print()\n",
    "\n",
    "# Measure and print the execution time for array with 1000 elements\n",
    "result_1000, time_ms_1000 = foo(array_1000, 1000)\n",
    "print(\"Array with 1000 elements:\")\n",
    "print(\"Result:\", result_1000)\n",
    "print(\"Execution Time:\", time_ms_1000, \"milliseconds\")\n"
   ]
  },
  {
   "cell_type": "markdown",
   "id": "26d9ab60",
   "metadata": {},
   "source": [
    "Big O notation is used to measure how running time or space requirements for your program grow as input size grows."
   ]
  },
  {
   "cell_type": "code",
   "execution_count": 12,
   "id": "b4d41ccc",
   "metadata": {},
   "outputs": [
    {
     "data": {
      "text/plain": [
       "[4, 25, 64, 81]"
      ]
     },
     "execution_count": 12,
     "metadata": {},
     "output_type": "execute_result"
    }
   ],
   "source": [
    "# Time complexity: O(n)\n",
    "def get_squared_numbers(number):\n",
    "    squared_numbers = []\n",
    "    for n in numbers:\n",
    "        squared_numbers.append(n*n)\n",
    "    return squared_numbers\n",
    " \n",
    "numbers = [2,5,8,9]\n",
    "get_squared_numbers(numbers)\n",
    "#returns [4,25,64,81]"
   ]
  },
  {
   "cell_type": "code",
   "execution_count": 2,
   "id": "67b76db4",
   "metadata": {},
   "outputs": [
    {
     "name": "stdout",
     "output_type": "stream",
     "text": [
      "3 is a duplicate\n",
      "6 is a duplicate\n"
     ]
    }
   ],
   "source": [
    "# Time complexity: O(n^2)\n",
    "numbers = [3, 6, 2, 4, 3, 6, 8, 9]\n",
    "\n",
    "for i in range(len(numbers)):\n",
    "    for j in range(i + 1, len(numbers)):\n",
    "        if numbers[i] == numbers[j]:\n",
    "            print(str(numbers[i]) + \" is a duplicate\")\n",
    "            break \n"
   ]
  },
  {
   "cell_type": "code",
   "execution_count": 5,
   "id": "1bbcc21b",
   "metadata": {},
   "outputs": [
    {
     "name": "stdout",
     "output_type": "stream",
     "text": [
      "5\n"
     ]
    }
   ],
   "source": [
    "# Search for 68 in the array below\n",
    "numbers = [4,9,15,21,34,57,68,91]\n",
    "duplicate = None\n",
    "\n",
    "for i in range(len(numbers)):\n",
    "    if numbers[i] == 57:\n",
    "        print(i)"
   ]
  },
  {
   "cell_type": "code",
   "execution_count": 16,
   "id": "df3f6e61",
   "metadata": {},
   "outputs": [
    {
     "name": "stdout",
     "output_type": "stream",
     "text": [
      "Found 68 at index 6\n"
     ]
    }
   ],
   "source": [
    "# Time complexity: O(n)\n",
    "# Explanation: The code searches for the value 68 in the 'numbers' list by iterating through it linearly.\n",
    "numbers = [4, 9, 15, 21, 34, 57, 68, 91]\n",
    "search_value = 68\n",
    "\n",
    "for i in range(len(numbers)):\n",
    "    if numbers[i] == search_value:\n",
    "        print(f\"Found {search_value} at index {i}\")\n"
   ]
  },
  {
   "cell_type": "code",
   "execution_count": 3,
   "id": "0ddca273",
   "metadata": {},
   "outputs": [
    {
     "name": "stdout",
     "output_type": "stream",
     "text": [
      "3 is a duplicate\n",
      "6 is a duplicate\n"
     ]
    }
   ],
   "source": [
    "numbers = [3, 6, 2, 4, 3, 6, 8, 9]\n",
    "duplicate = None\n",
    "\n",
    "for i in range(len(numbers)):  # n^2 interations\n",
    "    for j in range(i + 1, len(numbers)):\n",
    "        if numbers[i] == numbers[j]:\n",
    "            print(str(numbers[i]) + \" is a duplicate\")\n",
    "            break \n",
    "\n",
    "\n",
    "for i in range(len(numbers)):\n",
    "    if numbers[i] == duplicate:\n",
    "        print(i)\n",
    "        \n",
    "# time = a*n^2 + b*n + c"
   ]
  },
  {
   "cell_type": "code",
   "execution_count": 6,
   "id": "f31c129e",
   "metadata": {},
   "outputs": [],
   "source": [
    "for i in range(len(numbers)):     # n interations\n",
    "    if numbers[i] == duplicate:\n",
    "        print(i)"
   ]
  },
  {
   "cell_type": "code",
   "execution_count": 10,
   "id": "a9db81c9",
   "metadata": {},
   "outputs": [
    {
     "name": "stdout",
     "output_type": "stream",
     "text": [
      "Target 68 found at index 6\n"
     ]
    }
   ],
   "source": [
    "# Define the sorted array\n",
    "numbers = [4, 9, 15, 21, 34, 57, 68, 91]\n",
    "\n",
    "# Define the target number to search for\n",
    "target = 68\n",
    "\n",
    "# Initialize the low and high pointers\n",
    "low = 0                # Start at the first element (index 0)\n",
    "high = len(numbers) - 1  # End at the last element (index len(numbers) - 1)\n",
    "\n",
    "# Perform binary search while the low pointer is less than or equal to the high pointer\n",
    "while low <= high:\n",
    "    # Calculate the middle index\n",
    "    mid = (low + high) // 2\n",
    "    \n",
    "    # Check if the middle element is equal to the target\n",
    "    if numbers[mid] == target:\n",
    "        # Target found, print the index where it was found\n",
    "        print(f\"Target {target} found at index {mid}\")\n",
    "        break  # Exit the loop since we've found the target\n",
    "    \n",
    "    # If the middle element is greater than the target, update the high pointer\n",
    "    elif numbers[mid] > target:\n",
    "        high = mid - 1\n",
    "    \n",
    "    # If the middle element is less than the target, update the low pointer\n",
    "    else:\n",
    "        low = mid + 1\n",
    "\n",
    "# If the target is not found after the loop, print a message indicating it was not found\n",
    "if low > high:\n",
    "    print(f\"Target {target} not found in the array\")\n"
   ]
  },
  {
   "cell_type": "code",
   "execution_count": null,
   "id": "6d0c33e5",
   "metadata": {},
   "outputs": [],
   "source": []
  }
 ],
 "metadata": {
  "kernelspec": {
   "display_name": "Python 3 (ipykernel)",
   "language": "python",
   "name": "python3"
  },
  "language_info": {
   "codemirror_mode": {
    "name": "ipython",
    "version": 3
   },
   "file_extension": ".py",
   "mimetype": "text/x-python",
   "name": "python",
   "nbconvert_exporter": "python",
   "pygments_lexer": "ipython3",
   "version": "3.11.4"
  }
 },
 "nbformat": 4,
 "nbformat_minor": 5
}
