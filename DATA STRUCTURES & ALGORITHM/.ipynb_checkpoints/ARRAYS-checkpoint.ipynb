{
 "cells": [
  {
   "cell_type": "code",
   "execution_count": null,
   "id": "ff76ffa5",
   "metadata": {},
   "outputs": [],
   "source": [
    "Array can store numbers, text or complex objects.\n",
    "\n",
    "stock_prices = [2,3,5,6] # numbers\n",
    "stock_names = ['AAPL', 'IBM', 'TATA'] #text\n",
    "stock_data = [\n",
    "    {'ticker':'AAPL', 'price': 302}, # complex onj\n",
    "    {'ticker':'TSLA', 'price': 902},\n",
    "    {'ticker':'TATA', 'price': 278},\n",
    "]"
   ]
  },
  {
   "cell_type": "code",
   "execution_count": 1,
   "id": "f39a3788",
   "metadata": {},
   "outputs": [
    {
     "data": {
      "text/plain": [
       "38"
      ]
     },
     "execution_count": 1,
     "metadata": {},
     "output_type": "execute_result"
    }
   ],
   "source": [
    "# 2 Dimensional Array\n",
    "\n",
    "stock_prices = [\n",
    "    [2,3,5,6],\n",
    "    [40,42,38,44],\n",
    "    [78,89,71,66]\n",
    "]\n",
    "\n",
    "stock_prices[1][2]"
   ]
  },
  {
   "cell_type": "markdown",
   "id": "0b378852",
   "metadata": {},
   "source": [
    "### Exercise: Array DataStructure"
   ]
  },
  {
   "cell_type": "markdown",
   "id": "05de3cf6",
   "metadata": {},
   "source": [
    "Let us say your expense for every month are listed below,\n",
    "##### January - 2200\n",
    "##### February - 2350\n",
    "##### March - 2600\n",
    "##### April - 2130\n",
    "##### May - 2190\n",
    "##### Create a list to store these monthly expenses and using that find out,"
   ]
  },
  {
   "cell_type": "code",
   "execution_count": 6,
   "id": "55328299",
   "metadata": {},
   "outputs": [
    {
     "name": "stdout",
     "output_type": "stream",
     "text": [
      "Extra expense in February compared to January: 150 dollars\n"
     ]
    }
   ],
   "source": [
    "#1 In Feb, how many dollars you spent extra compare to January?\n",
    "\n",
    "# Monthly expenses list\n",
    "monthly_expenses = [2200, 2350, 2600, 2130, 2190]\n",
    "\n",
    "# Calculate the extra expense in February compared to January\n",
    "extra_expense_in_feb = monthly_expenses[1] - monthly_expenses[0]\n",
    "\n",
    "# Print the result\n",
    "print(\"Extra expense in February compared to January:\", extra_expense_in_feb, \"dollars\")\n"
   ]
  },
  {
   "cell_type": "code",
   "execution_count": 11,
   "id": "9adf90c2",
   "metadata": {},
   "outputs": [
    {
     "name": "stdout",
     "output_type": "stream",
     "text": [
      "Total expense in first quarter: 7150 dollars\n"
     ]
    }
   ],
   "source": [
    "#2. Find out your total expense in first quarter (first three months) of the year\n",
    "\n",
    "# Monthly expenses list\n",
    "monthly_expenses = [2200, 2350, 2600, 2130, 2190]\n",
    "\n",
    "\n",
    "total_expense = monthly_expenses[0] + monthly_expenses[1] + monthly_expenses[2]\n",
    "\n",
    "# Print the result\n",
    "print(\"Total expense in first quarter:\", total_expense, \"dollars\")\n"
   ]
  },
  {
   "cell_type": "code",
   "execution_count": 9,
   "id": "f4a5a5f5",
   "metadata": {},
   "outputs": [
    {
     "name": "stdout",
     "output_type": "stream",
     "text": [
      "Total expense in the first quarter: 7150 dollars\n"
     ]
    }
   ],
   "source": [
    "#2. Find out your total expense in first quarter (first three months) of the year\n",
    "# Monthly expenses list\n",
    "monthly_expenses = [2200, 2350, 2600, 2130, 2190]\n",
    "\n",
    "# Calculate the total expense in the first quarter (first three months)\n",
    "first_quarter_expense = sum(monthly_expenses[:3])\n",
    "\n",
    "# Print the result\n",
    "print(\"Total expense in the first quarter:\", first_quarter_expense, \"dollars\")\n"
   ]
  },
  {
   "cell_type": "code",
   "execution_count": 2,
   "id": "df412264",
   "metadata": {},
   "outputs": [
    {
     "name": "stdout",
     "output_type": "stream",
     "text": [
      "You did not spend exactly 2000 dollars in any month.\n"
     ]
    }
   ],
   "source": [
    "#3. Find out if you spent exactly 2000 dollars in any month\n",
    "\n",
    "# Monthly expenses list\n",
    "monthly_expenses = [2200, 2350, 2600, 2130, 2190]\n",
    "\n",
    "# Check if any month's expense is exactly 2000 dollars\n",
    "for index, expense in enumerate(monthly_expenses):\n",
    "    if expense == 2000:\n",
    "        print(f\"You spent exactly 2000 dollars in month {index + 1}.\")\n",
    "        break\n",
    "else:\n",
    "    print(\"You did not spend exactly 2000 dollars in any month.\")\n"
   ]
  },
  {
   "cell_type": "code",
   "execution_count": 3,
   "id": "586fed84",
   "metadata": {},
   "outputs": [
    {
     "name": "stdout",
     "output_type": "stream",
     "text": [
      "EDid I spend $2000 in any month?  False\n"
     ]
    }
   ],
   "source": [
    "# 3. Find out if you spent exactly 2000 dollars iin any month\n",
    "\n",
    "# Monthly expenses list\n",
    "monthly_expenses = [2200, 2350, 2600, 2130, 2190]\n",
    "\n",
    "print(\"Did I spend $2000 in any month? \", 2000 in monthly_expenses)"
   ]
  },
  {
   "cell_type": "code",
   "execution_count": 13,
   "id": "d7563aca",
   "metadata": {},
   "outputs": [
    {
     "name": "stdout",
     "output_type": "stream",
     "text": [
      "Updated monthly expenses list with June: [2200, 2350, 2600, 2130, 2190, 1980]\n"
     ]
    }
   ],
   "source": [
    "#4. June month just finished and your expense is 1980 dollar. Add this item to our monthly expense list\n",
    "\n",
    "# Monthly expenses list\n",
    "monthly_expenses = [2200, 2350, 2600, 2130, 2190]\n",
    "\n",
    "# Expense for June\n",
    "june_expense = 1980\n",
    "\n",
    "# Add the June expense to the list\n",
    "monthly_expenses.append(june_expense)\n",
    "\n",
    "# Print the updated list\n",
    "print(\"Updated monthly expenses list with June:\", monthly_expenses)"
   ]
  },
  {
   "cell_type": "code",
   "execution_count": 14,
   "id": "5ec056b4",
   "metadata": {},
   "outputs": [
    {
     "name": "stdout",
     "output_type": "stream",
     "text": [
      "Updated monthly expenses list with April refund: [2200, 2350, 2600, 1930, 2190]\n"
     ]
    }
   ],
   "source": [
    "# 5. You returned an item that you bought in a month of April and\n",
    "# got a refund of 200$. Make a correction to your monthly expense list\n",
    "# based on this\n",
    "\n",
    "# Monthly expenses list\n",
    "monthly_expenses = [2200, 2350, 2600, 2130, 2190]\n",
    "\n",
    "# Refund amount for April\n",
    "refund_april = 200\n",
    "\n",
    "# Subtract the refund amount from the April expense\n",
    "monthly_expenses[3] -= refund_april\n",
    "\n",
    "# Print the updated list\n",
    "print(\"Updated monthly expenses list with April refund:\", monthly_expenses)"
   ]
  },
  {
   "cell_type": "markdown",
   "id": "c66ee288",
   "metadata": {},
   "source": [
    "2. You have a list of your favourite marvel super heros."
   ]
  },
  {
   "cell_type": "markdown",
   "id": "ce916618",
   "metadata": {},
   "source": [
    "heros=['spider man','thor','hulk','iron man','captain america']\n",
    "\n",
    "1. Length of the list\n",
    "2. Add 'black panther' at the end of this list\n",
    "3. You realize that you need to add 'black panther' after 'hulk',\n",
    "   so remove it from the list first and then add it after 'hulk'\n",
    "4. Now you don't like thor and hulk because they get angry easily :)\n",
    "   So you want to remove thor and hulk from list and replace them with doctor strange (because he is cool).\n",
    "   Do that with one line of code.\n",
    "5. Sort the heros list in alphabetical order (Hint. Use dir() functions to list down all functions available in list)\n"
   ]
  },
  {
   "cell_type": "code",
   "execution_count": 3,
   "id": "0d6b667d",
   "metadata": {},
   "outputs": [
    {
     "name": "stdout",
     "output_type": "stream",
     "text": [
      "5\n"
     ]
    }
   ],
   "source": [
    "heros=['spider man','thor','hulk','iron man','captain america']\n",
    "# 1. Length of the list\n",
    "print(len(heros))"
   ]
  },
  {
   "cell_type": "code",
   "execution_count": 4,
   "id": "8f82007d",
   "metadata": {},
   "outputs": [
    {
     "name": "stdout",
     "output_type": "stream",
     "text": [
      "['spider man', 'thor', 'hulk', 'iron man', 'captain america', 'black panther']\n"
     ]
    }
   ],
   "source": [
    "# 2. Add 'black panther' at the end of this list\n",
    "heros.append('black panther')\n",
    "print(heros)"
   ]
  },
  {
   "cell_type": "code",
   "execution_count": 5,
   "id": "e379d3e8",
   "metadata": {},
   "outputs": [
    {
     "name": "stdout",
     "output_type": "stream",
     "text": [
      "['spider man', 'thor', 'hulk', 'black_panther', 'iron man', 'captain america']\n"
     ]
    }
   ],
   "source": [
    "# 3. You realize that you need to add 'black panther' after 'hulk',\n",
    "# so remove it from the list first and then add it after 'hulk'\n",
    "heros.remove('black panther')\n",
    "heros.insert(3, 'black_panther')\n",
    "print(heros)"
   ]
  },
  {
   "cell_type": "code",
   "execution_count": 6,
   "id": "9fa389d0",
   "metadata": {},
   "outputs": [
    {
     "name": "stdout",
     "output_type": "stream",
     "text": [
      "['spider man', 'doctor_strange', 'black_panther', 'iron man', 'captain america']\n"
     ]
    }
   ],
   "source": [
    "# 4. Now you don't like thor and hulk because they get angry easily :) \n",
    "# So you want to remove thor and hulk from list and replace them with \n",
    "# doctor strange (because he is cool). Do that with one line of code.\n",
    "heros[1:3] = ['doctor_strange']\n",
    "print(heros)"
   ]
  },
  {
   "cell_type": "code",
   "execution_count": 7,
   "id": "40367d58",
   "metadata": {},
   "outputs": [
    {
     "name": "stdout",
     "output_type": "stream",
     "text": [
      "['black_panther', 'captain america', 'doctor_strange', 'iron man', 'spider man']\n"
     ]
    }
   ],
   "source": [
    "# 5. Sort the heros list in alphabetical order (Hint. Use dir() \n",
    "# functions to list down all functions available in list)\n",
    "heros.sort()\n",
    "print(heros)"
   ]
  },
  {
   "cell_type": "code",
   "execution_count": null,
   "id": "3ec294b9",
   "metadata": {},
   "outputs": [],
   "source": []
  },
  {
   "cell_type": "markdown",
   "id": "2897e2f1",
   "metadata": {},
   "source": [
    "3. Create a list of all odd numbers between 1 and a max number. Max number is something you need to take from a user using input() function"
   ]
  },
  {
   "cell_type": "code",
   "execution_count": 8,
   "id": "50809e0a",
   "metadata": {},
   "outputs": [
    {
     "name": "stdout",
     "output_type": "stream",
     "text": [
      "Enter the maximum number: 18\n",
      "List of odd numbers between 1 and 18 : [1, 3, 5, 7, 9, 11, 13, 15, 17]\n"
     ]
    }
   ],
   "source": [
    "# Get the maximum number from the user\n",
    "max_number = int(input(\"Enter the maximum number: \"))\n",
    "\n",
    "# Initialize an empty list to store odd numbers\n",
    "odd_numbers = []\n",
    "\n",
    "# Iterate through numbers from 1 to the maximum number\n",
    "for number in range(1, max_number + 1):\n",
    "    # Check if the number is odd (remainder when divided by 2 is not 0)\n",
    "    if number % 2 != 0:\n",
    "        odd_numbers.append(number)\n",
    "\n",
    "# Print the list of odd numbers\n",
    "print(\"List of odd numbers between 1 and\", max_number, \":\", odd_numbers)\n"
   ]
  },
  {
   "cell_type": "code",
   "execution_count": 9,
   "id": "805e99c0",
   "metadata": {},
   "outputs": [
    {
     "name": "stdout",
     "output_type": "stream",
     "text": [
      "Enter max number: 12\n",
      "Odd numbers:  [1, 3, 5, 7, 9, 11]\n"
     ]
    }
   ],
   "source": [
    "max = int(input(\"Enter max number: \"))\n",
    "\n",
    "odd_numbers = []\n",
    "\n",
    "for i in range(1, max):\n",
    "    if i % 2 == 1:\n",
    "        odd_numbers.append(i)\n",
    "\n",
    "print(\"Odd numbers: \", odd_numbers)"
   ]
  },
  {
   "cell_type": "code",
   "execution_count": null,
   "id": "92d3bc4c",
   "metadata": {},
   "outputs": [],
   "source": [
    "dir('heros') # list down all functions available in list"
   ]
  },
  {
   "cell_type": "code",
   "execution_count": null,
   "id": "603bd7ca",
   "metadata": {},
   "outputs": [],
   "source": []
  }
 ],
 "metadata": {
  "kernelspec": {
   "display_name": "Python 3 (ipykernel)",
   "language": "python",
   "name": "python3"
  },
  "language_info": {
   "codemirror_mode": {
    "name": "ipython",
    "version": 3
   },
   "file_extension": ".py",
   "mimetype": "text/x-python",
   "name": "python",
   "nbconvert_exporter": "python",
   "pygments_lexer": "ipython3",
   "version": "3.11.4"
  }
 },
 "nbformat": 4,
 "nbformat_minor": 5
}
