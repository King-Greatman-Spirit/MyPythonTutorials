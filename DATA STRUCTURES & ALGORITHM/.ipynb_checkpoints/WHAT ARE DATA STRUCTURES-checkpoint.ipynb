{
 "cells": [
  {
   "cell_type": "markdown",
   "id": "e5ce8130",
   "metadata": {},
   "source": [
    "Data Structures are buildiong blocks or raw material for any software programs"
   ]
  },
  {
   "cell_type": "code",
   "execution_count": 14,
   "id": "fba944a4",
   "metadata": {},
   "outputs": [
    {
     "data": {
      "text/plain": [
       "298"
      ]
     },
     "execution_count": 14,
     "metadata": {},
     "output_type": "execute_result"
    }
   ],
   "source": [
    "#Store appple's stock price for 5 days and answer,\n",
    "#1. What was the price on day 1\n",
    "#2. Wat was the price on day 3\n",
    "\n",
    "# using a list\n",
    "stock_price = [298, 305, 320, 301, 292]\n",
    "stock_price[0]"
   ]
  },
  {
   "cell_type": "code",
   "execution_count": 15,
   "id": "55b03b25",
   "metadata": {},
   "outputs": [
    {
     "data": {
      "text/plain": [
       "320"
      ]
     },
     "execution_count": 15,
     "metadata": {},
     "output_type": "execute_result"
    }
   ],
   "source": [
    "#W Indexing in list\n",
    "stock_price[2]"
   ]
  },
  {
   "cell_type": "code",
   "execution_count": 2,
   "id": "662016bf",
   "metadata": {},
   "outputs": [
    {
     "name": "stdout",
     "output_type": "stream",
     "text": [
      "1. Price on March 7: 301\n",
      "2. Price on March 3: Price not available\n",
      "3. Price on March 4: 298\n"
     ]
    }
   ],
   "source": [
    "# Store Apple's stock price from March 7 and answer,\n",
    "# 1. What was the price on March 7\n",
    "# 2. What was the price on March 3\n",
    "\n",
    "# U sing a dictionary\n",
    "stock_price = {\n",
    "    'march 4': 298, \n",
    "    'march 5': 305, \n",
    "    'march 6': 320, \n",
    "    'march 7': 301, \n",
    "}\n",
    "\n",
    "# Access the prices\n",
    "price_on_march_7 = stock_price['march 7']  # Corrected the key\n",
    "price_on_march_3 = stock_price.get('march 3', 'Price not available')  # Using get() to handle missing key\n",
    "price_on_march_4 = stock_price['march 4']  # Corrected the key\n",
    "\n",
    "print(\"1. Price on March 7:\", price_on_march_7)\n",
    "print(\"2. Price on March 3:\", price_on_march_3)\n",
    "print(\"3. Price on March 4:\", price_on_march_4)"
   ]
  },
  {
   "cell_type": "code",
   "execution_count": 6,
   "id": "b4fe2ccd",
   "metadata": {},
   "outputs": [
    {
     "data": {
      "text/plain": [
       "298"
      ]
     },
     "execution_count": 6,
     "metadata": {},
     "output_type": "execute_result"
    }
   ],
   "source": [
    "# indexing in dict\n",
    "stock_price['march 4']"
   ]
  },
  {
   "cell_type": "code",
   "execution_count": 9,
   "id": "bc71f549",
   "metadata": {},
   "outputs": [
    {
     "data": {
      "text/plain": [
       "301"
      ]
     },
     "execution_count": 9,
     "metadata": {},
     "output_type": "execute_result"
    }
   ],
   "source": [
    "stock_price['march 7']"
   ]
  },
  {
   "cell_type": "code",
   "execution_count": null,
   "id": "909e974b",
   "metadata": {},
   "outputs": [],
   "source": []
  }
 ],
 "metadata": {
  "kernelspec": {
   "display_name": "Python 3 (ipykernel)",
   "language": "python",
   "name": "python3"
  },
  "language_info": {
   "codemirror_mode": {
    "name": "ipython",
    "version": 3
   },
   "file_extension": ".py",
   "mimetype": "text/x-python",
   "name": "python",
   "nbconvert_exporter": "python",
   "pygments_lexer": "ipython3",
   "version": "3.11.4"
  }
 },
 "nbformat": 4,
 "nbformat_minor": 5
}
